{
 "cells": [
  {
   "cell_type": "code",
   "execution_count": null,
   "metadata": {},
   "outputs": [
    {
     "name": "stdout",
     "output_type": "stream",
     "text": [
      "Loaded 114632322 events\n",
      "First few events:\n",
      "[[2019254326          3          6          0]\n",
      " [2019254326         72          4          1]\n",
      " [2019254326         66          4          1]\n",
      " [2019254326         64          4          1]\n",
      " [2019254326         64          4          1]]\n"
     ]
    }
   ],
   "source": [
    "# TODO: make a dataset for the ROSHAMBO17 dataset (for aedat data as well as AVI frames)\n",
    "# TODO: make regular time surface\n",
    "# TODO: make HATS time surface\n",
    "# TODO: make HOTS time surface\n",
    "# TODO: train the MCVD model on the three options, as well as the avi frames\n",
    "\n",
    "\n",
    "# https://ieeexplore.ieee.org/document/8050403\n",
    "# test loading the rock-paper-scissors dataset\n",
    "# import tonic\n",
    "# events = tonic.io.read_aedat(\"/home/matt/DATA/ROSHAMBO17/recordings/aedat/paper_ale_front.aedat\")\n",
    "\n",
    "def inspect_aedat_file(filename):\n",
    "    with open(filename, 'rb') as f:\n",
    "        # Read first 1000 bytes to inspect header\n",
    "        initial_bytes = f.read(1000)\n",
    "        print(\"First 100 bytes as hex:\")\n",
    "        print(initial_bytes[:100].hex())\n",
    "        print(\"\\nFirst 100 bytes as ASCII (if possible):\")\n",
    "        print(initial_bytes[:100])\n",
    "        print(\"\\nTotal file size:\", f.seek(0, 2))\n",
    "        f.seek(0)\n",
    "        print(\"\\nFirst few lines:\")\n",
    "        for i in range(5):\n",
    "            print(f.readline())\n",
    "\n",
    "# inspect_aedat_file(\"/home/matt/DATA/ROSHAMBO17/recordings/aedat/paper_ale_front.aedat\")\n",
    "\n",
    "import numpy as np\n",
    "import struct\n",
    "\n",
    "def read_aedat2(filename):\n",
    "    \"\"\"\n",
    "    Read AEDAT2 file format\n",
    "    Returns: numpy array of events with columns (timestamp, x, y, polarity)\n",
    "    \"\"\"\n",
    "    with open(filename, 'rb') as f:\n",
    "        # Skip header (look for first non-# line)\n",
    "        while True:\n",
    "            line = f.readline()\n",
    "            if not line.startswith(b'#'):\n",
    "                break\n",
    "        \n",
    "        # Go back 1 line since we read the first data byte\n",
    "        f.seek(-len(line), 1)\n",
    "        \n",
    "        # Read the rest as binary data\n",
    "        data = f.read()\n",
    "        \n",
    "        # Convert bytes to array of uint32\n",
    "        events = np.frombuffer(data, dtype=np.uint32)\n",
    "        \n",
    "        # Reshape to (N, 2) array - pairs of (address, timestamp)\n",
    "        events = events.reshape(-1, 2)\n",
    "        \n",
    "        # Extract address and timestamp\n",
    "        addresses = events[:, 0]\n",
    "        timestamps = events[:, 1]\n",
    "        \n",
    "        # For DVS128 camera:\n",
    "        # Bit 0: Polarity (0: OFF, 1: ON)\n",
    "        # Bits 1-7: Y address (0-127)\n",
    "        # Bits 8-14: X address (0-127)\n",
    "        polarity = addresses & 1\n",
    "        y = (addresses >> 1) & 0x7F\n",
    "        x = (addresses >> 8) & 0x7F\n",
    "        \n",
    "        return np.column_stack((timestamps, x, y, polarity))\n",
    "\n",
    "\n",
    "# Example usage:\n",
    "events = read_aedat2(\"/home/matt/DATA/ROSHAMBO17/recordings/aedat/paper_ale_front.aedat\")\n",
    "print(f\"Loaded {len(events)} events\")\n",
    "print(\"First few events:\")\n",
    "print(events[:5])"
   ]
  },
  {
   "cell_type": "code",
   "execution_count": null,
   "metadata": {},
   "outputs": [],
   "source": []
  },
  {
   "cell_type": "code",
   "execution_count": null,
   "metadata": {},
   "outputs": [],
   "source": []
  }
 ],
 "metadata": {
  "kernelspec": {
   "display_name": "mcvd",
   "language": "python",
   "name": "python3"
  },
  "language_info": {
   "codemirror_mode": {
    "name": "ipython",
    "version": 3
   },
   "file_extension": ".py",
   "mimetype": "text/x-python",
   "name": "python",
   "nbconvert_exporter": "python",
   "pygments_lexer": "ipython3",
   "version": "3.12.8"
  }
 },
 "nbformat": 4,
 "nbformat_minor": 2
}
